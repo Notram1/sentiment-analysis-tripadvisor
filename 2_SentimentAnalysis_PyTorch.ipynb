{
 "metadata": {
  "language_info": {
   "codemirror_mode": {
    "name": "ipython",
    "version": 3
   },
   "file_extension": ".py",
   "mimetype": "text/x-python",
   "name": "python",
   "nbconvert_exporter": "python",
   "pygments_lexer": "ipython3",
   "version": "3.7.10"
  },
  "orig_nbformat": 2,
  "kernelspec": {
   "name": "python3",
   "display_name": "Python 3.7.10 64-bit ('nlp': conda)"
  },
  "interpreter": {
   "hash": "c0a2f5f2ec388a4b45beb4ef144deae29e8f9d03c06f4c2bd14f758dcb12937e"
  }
 },
 "nbformat": 4,
 "nbformat_minor": 2,
 "cells": [
  {
   "cell_type": "markdown",
   "source": [
    "# Sentiment Analysis 2 - PyTorch\n",
    "\n",
    "## 0. Setup"
   ],
   "metadata": {}
  },
  {
   "cell_type": "code",
   "execution_count": 1,
   "source": [
    "# General packages\n",
    "import os\n",
    "import matplotlib.pyplot as plt\n",
    "import numpy as np\n",
    "import pandas as pd\n",
    "import copy\n",
    "import random\n",
    "import bcolz\n",
    "import pickle\n",
    "\n",
    "# NLP packages\n",
    "import nltk\n",
    "from sklearn.feature_extraction.text import TfidfVectorizer\n",
    "\n",
    "# Modelling packages\n",
    "from torch.utils.tensorboard import SummaryWriter\n",
    "from sklearn.model_selection import train_test_split\n",
    "from sklearn.metrics import mean_squared_error, classification_report\n",
    "import torch\n",
    "import torch.nn as nn\n",
    "import torch.nn.functional as F\n",
    "from torch.utils.data import DataLoader\n",
    "from torch.nn.utils import clip_grad_norm_\n",
    "\n",
    "from src.text_classifiers import RNNClassifier, initialize_weights\n",
    "from src.tripadvisor_dataset import SentimentDataset, collate\n",
    "from src.utils import calc_distr, parse_glove\n",
    "\n",
    "\n",
    "%matplotlib inline\n",
    "plt.rcParams['figure.figsize'] = (5.0, 4.0) # set default size of plots\n",
    "plt.rcParams['image.interpolation'] = 'nearest'\n",
    "plt.rcParams['image.cmap'] = 'gray'\n",
    "\n",
    "# for auto-reloading external modules see http://stackoverflow.com/questions/1907993/autoreload-of-modules-in-ipython\n",
    "%load_ext autoreload\n",
    "%autoreload 2"
   ],
   "outputs": [],
   "metadata": {}
  },
  {
   "cell_type": "markdown",
   "source": [
    "## Parameters"
   ],
   "metadata": {}
  },
  {
   "cell_type": "code",
   "execution_count": 2,
   "source": [
    "params={\n",
    "    'SEED': 123,            # seed for random processes                 \n",
    "    'max_features': 10000,  # vocabulary size\n",
    "    'embedding_dim': 128,   # size of an embedding vector (if not using pretrained embedding vectors)\n",
    "    'hidden_size': 256,     # number of features in the hidden state of the rnn layer\n",
    "    'rnn_type': 'gru',      # use 'rnn', 'lstm' or 'gru'\n",
    "    'bidirectional': True,  # If True, use bidirectional rnn \n",
    "    'n_layers': 5,          # number of layers in the stacked rnn \n",
    "    'dropout': 0.5,         # if non-zero, introduces a Dropout layer on the outputs of each LSTM layer except the last layer\n",
    "    'output_size': 3,       # number of classes\n",
    "    'gclip': 40,            # To tackle the exploding gradient problem, set gclip and use clip_grad_norm_(X, gclip)\n",
    "    'batch_size': 16,       # Batch size for stochastic gradient descent\n",
    "    'lr': 5e-4,             # Learning rate for the Adam optimizer\n",
    "    'lr_decay': 0.95,       # Learning rate decay parameter for exponential lr scheduling\n",
    "    'epochs': 35,           # Number of epochs to train the model\n",
    "    'print_every': None,    # Frequency of printing the loss in an epoch\n",
    "    'patience': 5,          # Patience value used for early stopping if the performance does not increase.\n",
    "    'weighted_loss': True,  # Use a weighted Cross Entropy Loss function to balance classes\n",
    "    'pretrained_embedding': True    # Use pretrained embedding vectors, otherwise train from scratch\n",
    "}"
   ],
   "outputs": [],
   "metadata": {}
  },
  {
   "cell_type": "markdown",
   "source": [
    "## 1. Dataset\n",
    "### Load Data"
   ],
   "metadata": {}
  },
  {
   "cell_type": "code",
   "execution_count": 3,
   "source": [
    "data_root = os.path.join(os.path.abspath(os.getcwd()), \"data\", \"tripadvisor_hotel_reviews_preproc.csv\")\n",
    "data = pd.read_csv(data_root)\n",
    "data.head()"
   ],
   "outputs": [
    {
     "output_type": "execute_result",
     "data": {
      "text/html": [
       "<div>\n",
       "<style scoped>\n",
       "    .dataframe tbody tr th:only-of-type {\n",
       "        vertical-align: middle;\n",
       "    }\n",
       "\n",
       "    .dataframe tbody tr th {\n",
       "        vertical-align: top;\n",
       "    }\n",
       "\n",
       "    .dataframe thead th {\n",
       "        text-align: right;\n",
       "    }\n",
       "</style>\n",
       "<table border=\"1\" class=\"dataframe\">\n",
       "  <thead>\n",
       "    <tr style=\"text-align: right;\">\n",
       "      <th></th>\n",
       "      <th>Review</th>\n",
       "      <th>Rating</th>\n",
       "      <th>Review_preprocessed</th>\n",
       "      <th>Sentiment_rating</th>\n",
       "    </tr>\n",
       "  </thead>\n",
       "  <tbody>\n",
       "    <tr>\n",
       "      <th>0</th>\n",
       "      <td>nice hotel expensive parking got good deal sta...</td>\n",
       "      <td>4</td>\n",
       "      <td>nice hotel expensive parking got good deal sta...</td>\n",
       "      <td>1</td>\n",
       "    </tr>\n",
       "    <tr>\n",
       "      <th>1</th>\n",
       "      <td>ok nothing special charge diamond member hilto...</td>\n",
       "      <td>2</td>\n",
       "      <td>ok nothing special charge diamond member hilto...</td>\n",
       "      <td>0</td>\n",
       "    </tr>\n",
       "    <tr>\n",
       "      <th>2</th>\n",
       "      <td>nice rooms not 4* experience hotel monaco seat...</td>\n",
       "      <td>3</td>\n",
       "      <td>nice room experience hotel monaco seattle good...</td>\n",
       "      <td>1</td>\n",
       "    </tr>\n",
       "    <tr>\n",
       "      <th>3</th>\n",
       "      <td>unique, great stay, wonderful time hotel monac...</td>\n",
       "      <td>5</td>\n",
       "      <td>unique great stay wonderful time hotel monaco ...</td>\n",
       "      <td>2</td>\n",
       "    </tr>\n",
       "    <tr>\n",
       "      <th>4</th>\n",
       "      <td>great stay great stay, went seahawk game aweso...</td>\n",
       "      <td>5</td>\n",
       "      <td>great stay great stay went seahawk game awesom...</td>\n",
       "      <td>2</td>\n",
       "    </tr>\n",
       "  </tbody>\n",
       "</table>\n",
       "</div>"
      ],
      "text/plain": [
       "                                              Review  Rating  \\\n",
       "0  nice hotel expensive parking got good deal sta...       4   \n",
       "1  ok nothing special charge diamond member hilto...       2   \n",
       "2  nice rooms not 4* experience hotel monaco seat...       3   \n",
       "3  unique, great stay, wonderful time hotel monac...       5   \n",
       "4  great stay great stay, went seahawk game aweso...       5   \n",
       "\n",
       "                                 Review_preprocessed  Sentiment_rating  \n",
       "0  nice hotel expensive parking got good deal sta...                 1  \n",
       "1  ok nothing special charge diamond member hilto...                 0  \n",
       "2  nice room experience hotel monaco seattle good...                 1  \n",
       "3  unique great stay wonderful time hotel monaco ...                 2  \n",
       "4  great stay great stay went seahawk game awesom...                 2  "
      ]
     },
     "metadata": {},
     "execution_count": 3
    }
   ],
   "metadata": {}
  },
  {
   "cell_type": "markdown",
   "source": [
    "### Create Vocabulary\n",
    "\n",
    "Build a vocabulary that only consider the top `max_features` ordered by term frequency across the corpus."
   ],
   "metadata": {}
  },
  {
   "cell_type": "code",
   "execution_count": 4,
   "source": [
    "\n",
    "tfidfconverter = TfidfVectorizer(use_idf=True, max_features=params['max_features'], min_df=0, max_df=1.0)\n",
    "tfidfconverter.fit_transform(data['Review_preprocessed'])\n",
    "pre_vocab = tfidfconverter.vocabulary_"
   ],
   "outputs": [],
   "metadata": {}
  },
  {
   "cell_type": "code",
   "execution_count": 5,
   "source": [
    "print('Vocabulary size:', len(pre_vocab), '\\n\\n  Sample words\\n{}'.format('-' * 20))\n",
    "sample_words = random.sample(list(pre_vocab.keys()), 10)\n",
    "for word in sample_words:\n",
    "    print(' {}'.format(word))"
   ],
   "outputs": [
    {
     "output_type": "stream",
     "name": "stdout",
     "text": [
      "Vocabulary size: 10000 \n",
      "\n",
      "  Sample words\n",
      "--------------------\n",
      " violent\n",
      " freezing\n",
      " buffet\n",
      " private\n",
      " transat\n",
      " gratis\n",
      " paid\n",
      " bldg\n",
      " briefly\n",
      " philadelphia\n"
     ]
    }
   ],
   "metadata": {}
  },
  {
   "cell_type": "markdown",
   "source": [
    "In addition to the words that appear in our data, we need to have two special words:\n",
    "\n",
    "- `<eos>` End of sequence symbol used for padding\n",
    "- `<unk>` Words unknown in our vocabulary"
   ],
   "metadata": {}
  },
  {
   "cell_type": "code",
   "execution_count": 6,
   "source": [
    "vocab = {'<eos>': 0, '<unk>': 1}\n",
    "for key in pre_vocab.keys():\n",
    "    vocab[key] = len(vocab)\n",
    "print('Vocabulary size:', len(vocab))\n",
    "# for i in range(len(vocab)-50, len(vocab)):\n",
    "#     print(list(vocab.keys())[list(vocab.values()).index(i)])"
   ],
   "outputs": [
    {
     "output_type": "stream",
     "name": "stdout",
     "text": [
      "Vocabulary size: 10002\n"
     ]
    }
   ],
   "metadata": {}
  },
  {
   "cell_type": "markdown",
   "source": [
    "### Create Dataset\n",
    "\n",
    "Steps:\n",
    "* Tokenize data\n",
    "* Create index-label pairs based on vocabulary\n",
    "* Divide into train, validation and test sets\n",
    "* Wrapping to PyTorch dataset\n"
   ],
   "metadata": {}
  },
  {
   "cell_type": "code",
   "execution_count": 7,
   "source": [
    "tokenized_data = []\n",
    "for i in range(len(data)):\n",
    "    tokenized_data.append((nltk.word_tokenize(data['Review_preprocessed'][i]), data['Sentiment_rating'][i]))\n",
    "print(tokenized_data[-1])    "
   ],
   "outputs": [
    {
     "output_type": "stream",
     "name": "stdout",
     "text": [
      "(['people', 'talking', 'ca', 'believe', 'excellent', 'rating', 'hotel', 'yes', 'patricia', 'extremely', 'helpful', 'fluent', 'language', 'go', 'way', 'make', 'welcome', 'said', 'place', 'bit', 'dump', 'inexpensive', 'hotel', 'expensive', 'city', 'place', 'bit', 'dated', 'institutional', 'odor', 'charm', 'funeral', 'home', 'walking', 'step', 'hotel', 'girlfriend', 'step', 'condom', 'yes', 'condom', 'step', 'lot', 'guy', 'hanging', 'desk', 'hallway', 'girlfriend', 'swears', 'house', 'prostitution', 'patricia', 'arrange', 'taxi', 'following', 'morning', 'stayed', 'night', 'wrong', 'information', 'cost', 'fare', 'room', 'clean', 'large', 'bathroom', 'small', 'passable', 'night', 'glad', 'leave', 'following', 'morning', 'recommend', 'extended', 'stay', 'unless', 'tight', 'budget', 'care', 'look', 'feel', 'place'], 0)\n"
     ]
    }
   ],
   "metadata": {
    "tags": []
   }
  },
  {
   "cell_type": "code",
   "execution_count": 8,
   "source": [
    "indexed_data = []\n",
    "for tokens, label in tokenized_data:\n",
    "    indices = [vocab.get(token, vocab['<unk>']) for token in tokens]    \n",
    "    # the token that is not in vocab get assigned <unk>\n",
    "    indexed_data.append((indices, label))\n",
    "print(indexed_data[-1])    "
   ],
   "outputs": [
    {
     "output_type": "stream",
     "name": "stdout",
     "text": [
      "([49, 50, 625, 1353, 321, 1267, 3, 936, 8650, 770, 148, 8227, 385, 1578, 282, 175, 469, 98, 440, 937, 2036, 2679, 3, 4, 388, 440, 937, 2633, 1, 2023, 587, 1, 559, 66, 1154, 3, 380, 1154, 5643, 936, 5643, 1154, 541, 2008, 1305, 96, 51, 380, 1, 428, 1, 8650, 250, 368, 1001, 42, 447, 41, 875, 1669, 783, 1059, 27, 28, 217, 92, 538, 5590, 41, 2499, 409, 1001, 42, 441, 2098, 9, 827, 1958, 1301, 815, 295, 357, 440], 0)\n"
     ]
    }
   ],
   "metadata": {}
  },
  {
   "cell_type": "markdown",
   "source": [
    "Dataset class also reverse sorts the sequences with respect to the lengths. Thanks to this sorting, we can reduce the total number of padded elements, which means that we have less computations for padded values."
   ],
   "metadata": {}
  },
  {
   "cell_type": "code",
   "execution_count": 9,
   "source": [
    "combined_data = [(raw_text, tokens, indices, label) for (raw_text, label), (tokens, _), (indices, _)\n",
    "    in zip(list(data[['Review_preprocessed', 'Sentiment_rating']].to_records(index=False)), tokenized_data, indexed_data)]"
   ],
   "outputs": [],
   "metadata": {}
  },
  {
   "cell_type": "markdown",
   "source": [
    "Let's divide the dataset into train, validation and test sets (60%-20%-20%). Stratified folds: each set contains approximately the same percentage of samples of each target class as the complete set."
   ],
   "metadata": {}
  },
  {
   "cell_type": "code",
   "execution_count": 10,
   "source": [
    "val_test_len = int(len(combined_data) * 0.2)\n",
    "train_val_data, test_data = train_test_split(combined_data,test_size=val_test_len, random_state=params['SEED'], stratify=data['Sentiment_rating'])\n",
    "df = pd.DataFrame(train_val_data, columns=['raw_text', 'tokens', 'indices', 'label'])\n",
    "train_data, val_data = train_test_split(train_val_data,test_size=val_test_len, random_state=params['SEED'], stratify=df['label'])"
   ],
   "outputs": [],
   "metadata": {}
  },
  {
   "cell_type": "markdown",
   "source": [
    "Let's check out the distribution of the classes in the created datasets."
   ],
   "metadata": {}
  },
  {
   "cell_type": "code",
   "execution_count": 11,
   "source": [
    "print(calc_distr(combined_data))\n",
    "print(calc_distr(train_val_data))\n",
    "print(calc_distr(train_data))\n",
    "print(calc_distr(val_data))\n",
    "print(calc_distr(test_data))"
   ],
   "outputs": [
    {
     "output_type": "stream",
     "name": "stdout",
     "text": [
      "{'0': 0.15684934849446097, '1': 0.4012981308867308, '2': 0.44185252061880825}\n",
      "{'0': 0.15683523455133289, '1': 0.4013298359055695, '2': 0.44183492954309767}\n",
      "{'0': 0.15681171207808053, '1': 0.40130134200894674, '2': 0.44188694591297273}\n",
      "{'0': 0.15690580771107857, '1': 0.40141532454856027, '2': 0.44167886774036114}\n",
      "{'0': 0.15690580771107857, '1': 0.4011713030746706, '2': 0.4419228892142509}\n"
     ]
    }
   ],
   "metadata": {
    "tags": []
   }
  },
  {
   "cell_type": "code",
   "execution_count": 12,
   "source": [
    "# Check out the number of data samples in the created datasets.\n",
    "print(len(combined_data))\n",
    "print(len(train_val_data))\n",
    "print(len(train_data))\n",
    "print(len(val_data))\n",
    "print(len(test_data))"
   ],
   "outputs": [
    {
     "output_type": "stream",
     "name": "stdout",
     "text": [
      "20491\n",
      "16393\n",
      "12295\n",
      "4098\n",
      "4098\n"
     ]
    }
   ],
   "metadata": {}
  },
  {
   "cell_type": "markdown",
   "source": [
    "Let us wrap our data in a PyTorch dataset. For more details, check out the previous notebook and the corresponding dataset class defined in `src/tripadvisor_dataset.py`."
   ],
   "metadata": {}
  },
  {
   "cell_type": "code",
   "execution_count": 13,
   "source": [
    "#Define a Dataset Class for train, val and test set\n",
    "train_dataset = SentimentDataset(train_data)\n",
    "val_dataset = SentimentDataset(val_data)\n",
    "test_dataset = SentimentDataset(test_data)"
   ],
   "outputs": [],
   "metadata": {}
  },
  {
   "cell_type": "markdown",
   "source": [
    "Note that in the dataset we created, not all sequences have the same length. Therefore, we cannot minibatch the data trivially. This means we cannot use a `DataLoader` class easily.\n",
    "\n",
    "To solve the problem, we need to pad the sequences with <code> <eos> </code> tokens that we indexed as zero. To integrate this approach into the Pytorch <a href=\"https://pytorch.org/docs/stable/data.html#torch.utils.data.DataLoader\" target=\"_blank\">Dataloader</a> class, we will make use of the <code>collate_fn</code> argument. For more details, check out the <code>collate</code> function in <code>src/tripadvisor_dataset</code>.\n",
    "\n",
    "In addition, we use the <a href=\"https://pytorch.org/docs/stable/generated/torch.nn.utils.rnn.pad_sequence.html\" target=\"_blank\">pad_sequence</a> that pads shorter sequences with 0.\n"
   ],
   "metadata": {}
  },
  {
   "cell_type": "code",
   "execution_count": 14,
   "source": [
    "loader = DataLoader(train_dataset, batch_size=3, collate_fn=collate)\n",
    "for batch in loader:\n",
    "    print('Data: \\n', batch['data'])\n",
    "    print('\\nLabels: \\n', batch['label'])\n",
    "    print('\\nSequence Lengths: \\n', batch['lengths'])\n",
    "    print('\\n')\n",
    "    break"
   ],
   "outputs": [
    {
     "output_type": "stream",
     "name": "stdout",
     "text": [
      "Data: \n",
      " tensor([[2399,  120,  174],\n",
      "        [  17,   84,  156],\n",
      "        [ 930,    7, 5148],\n",
      "        ...,\n",
      "        [  77,    0,    0],\n",
      "        [ 510,    0,    0],\n",
      "        [ 559,    0,    0]])\n",
      "\n",
      "Labels: \n",
      " tensor([1., 2., 1.])\n",
      "\n",
      "Sequence Lengths: \n",
      " tensor([1863, 1673, 1381])\n",
      "\n",
      "\n"
     ]
    }
   ],
   "metadata": {
    "tags": []
   }
  },
  {
   "cell_type": "markdown",
   "source": [
    "## 2. Pre-trained GloVe embeddings\n",
    "\n",
    "Rather than training our own word vectors from scratch, we can also leverage GloVe embeddings. Its authors have released four text files with word vectors trained on different massive web datasets. They are available for download [here](https://nlp.stanford.edu/projects/glove/). We will use `Wikipedia 2014 + Gigaword 5` which is the smallest file ([`glove.6B.zip`](http://nlp.stanford.edu/data/wordvecs/glove.6B.zip)) with 822 MB. It was trained on a corpus of 6 billion tokens and contains a vocabulary of 400 thousand tokens.\n",
    "\n",
    "First, download `glove.6B.zip` to the `data/` folder. After unzipping the downloaded file we find four txt files: `glove.6B.50d.txt`, `glove.6B.100d.txt`, `glove.6B.200d.txt`, `glove.6B.300d.txt`. As their filenames suggests, they have vectors with different dimensions. We pick the smallest one with words represented by vectors of dim 50 (`glove.6B.50d.txt`).\n",
    "\n",
    "Given that the vocabulary have 400k tokens, we will use `bcolz` to store the array of vectors. It provides columnar, chunked data containers that can be compressed either in-memory and on-disk. It is based on `NumPy`, and uses it as the standard data container to communicate with `bcolz` objects.\n",
    "\n",
    "We need to parse the file to get as output: list of words, dictionary mapping each word to their id (position) and array of vectors. We then save the outputs to disk for future uses ( with the `parse_glove()` function). Using those objects we can now create a dictionary that given a word returns its vector. GloVe’s vocabulary is likely to be different from our dataset’s vocabulary. For each word in dataset’s vocabulary, we check if it is GloVe’s vocabulary. If it is, we load its pre-trained word vector. Otherwise, we initialize a random vector."
   ],
   "metadata": {}
  },
  {
   "cell_type": "code",
   "execution_count": 24,
   "source": [
    "if params['pretrained_embedding']:\n",
    "    glove_path = os.path.join(os.path.abspath(os.getcwd()), \"data\", \"glove.6B\")\n",
    "    emb_dim = 50 # could also use 100, 200 or 300\n",
    "\n",
    "    # uncomment this the first time you use GloVe embeddings.\n",
    "    # parse_glove(glove_path=glove_path, embedding_dim=emb_dim)\n",
    "\n",
    "    vectors = bcolz.open(f'{glove_path}/6B.{emb_dim}.dat')[:]\n",
    "    words = pickle.load(open(f'{glove_path}/6B.{emb_dim}_words.pkl', 'rb'))\n",
    "    word2idx = pickle.load(open(f'{glove_path}/6B.{emb_dim}_idx.pkl', 'rb'))\n",
    "\n",
    "    glove = {w: vectors[word2idx[w]] for w in words}\n",
    "\n",
    "    matrix_len = len(vocab)\n",
    "    embedding_weights = np.zeros((matrix_len, emb_dim))\n",
    "    words_found = 0\n",
    "    for i, word in enumerate(vocab):\n",
    "        try: \n",
    "            embedding_weights[i] = glove[word]\n",
    "            words_found += 1\n",
    "        except KeyError:\n",
    "            embedding_weights[i] = np.random.normal(scale=np.std(vectors, axis=0), size=(emb_dim, ))\n",
    "    print(f\"{words_found} words have been found in GloVe. For the remaining {matrix_len - words_found} words a random vector has been assigned.\")\n",
    "else:\n",
    "    embedding_weights = None\n"
   ],
   "outputs": [
    {
     "output_type": "stream",
     "name": "stdout",
     "text": [
      "9523 words have been found in GloVe. For the remaining 479 words a random vector has been assigned.\n"
     ]
    }
   ],
   "metadata": {}
  },
  {
   "cell_type": "markdown",
   "source": [
    "## 3. Creating a Sentiment Classifier\n",
    "\n",
    "After we have loaded the data, it is time to define a model and start training and testing.\n",
    "\n",
    "### Evaluation Metrics\n",
    "\n",
    "Since we need to predict positive, neutral or negative, we use `cross-entropy loss` to train our model. \n",
    "\n",
    "We usually take *accuracy* as our metric for most classification problems, however, ratings are ordered, *RMSE* (root mean squared error) is a reasonable alternative. "
   ],
   "metadata": {}
  },
  {
   "cell_type": "code",
   "execution_count": 30,
   "source": [
    "if params['weighted_loss']:\n",
    "    loss_weights = 1/torch.Tensor(list(calc_distr(train_data).values())).cuda()\n",
    "else:\n",
    "    loss_weights = None\n",
    "\n",
    "loss_fn = nn.CrossEntropyLoss(weight=loss_weights)\n",
    "\n",
    "@torch.no_grad()\n",
    "def validation_metrics (model, data_loader):\n",
    "    model.eval()\n",
    "    correct = np.array([0]*params['output_size'])\n",
    "    total = np.array([0]*params['output_size'])\n",
    "    sum_loss = 0.0\n",
    "    sum_rmse = 0.0\n",
    "    device = next(model.parameters()).device\n",
    "    preds = []\n",
    "\n",
    "    for i, x in enumerate(data_loader):\n",
    "        input = x['data'].to(device)\n",
    "        lengths = x['lengths']\n",
    "        label = x['label'].to(device)\n",
    "        \n",
    "        pred = model(input, lengths)\n",
    "        loss = loss_fn(pred, label.long())\n",
    "        pred = torch.max(pred, 1)[1]\n",
    "        preds.extend(pred.cpu().tolist())\n",
    "\n",
    "        for i, y in enumerate(label.int().cpu()):\n",
    "            correct[y.item()] += (pred[i].cpu() == y).float()\n",
    "            total[y.item()] += 1\n",
    "        sum_loss += loss.item()*label.shape[0]\n",
    "        sum_rmse += np.sqrt(mean_squared_error(pred.cpu(), label.unsqueeze(-1).cpu()))*label.shape[0]\n",
    "    \n",
    "    class_acc = correct / total\n",
    "    return sum_loss/total.sum(), np.mean(class_acc), sum_rmse/total.sum(), preds"
   ],
   "outputs": [],
   "metadata": {}
  },
  {
   "cell_type": "markdown",
   "source": [
    "### Design the model\n",
    "\n",
    "See <code>src/text_classifiers.py</code> for the implementation of the <code>RNNClassifier</code>."
   ],
   "metadata": {}
  },
  {
   "cell_type": "code",
   "execution_count": 38,
   "source": [
    "model = RNNClassifier(num_embeddings=len(vocab), embedding_dim=params['embedding_dim'], hidden_size=params['hidden_size'], rnn_type=params['rnn_type'], \n",
    "                    bidirectional=params['bidirectional'], n_layers = params['n_layers'], dropout = params['dropout'], output_size= params['output_size'],\n",
    "                    pretrained_embedding=torch.from_numpy(embedding_weights))\n",
    "model.apply(initialize_weights)"
   ],
   "outputs": [
    {
     "output_type": "execute_result",
     "data": {
      "text/plain": [
       "RNNClassifier(\n",
       "  (embedding): Embedding(10002, 50, padding_idx=0)\n",
       "  (rnn): GRU(50, 256, num_layers=5, dropout=0.4, bidirectional=True)\n",
       "  (dropout): Dropout(p=0.4, inplace=False)\n",
       "  (fc): Linear(in_features=512, out_features=3, bias=True)\n",
       ")"
      ]
     },
     "metadata": {},
     "execution_count": 38
    }
   ],
   "metadata": {}
  },
  {
   "cell_type": "code",
   "execution_count": 39,
   "source": [
    "print(model)"
   ],
   "outputs": [
    {
     "output_type": "stream",
     "name": "stdout",
     "text": [
      "RNNClassifier(\n",
      "  (embedding): Embedding(10002, 50, padding_idx=0)\n",
      "  (rnn): GRU(50, 256, num_layers=5, dropout=0.4, bidirectional=True)\n",
      "  (dropout): Dropout(p=0.4, inplace=False)\n",
      "  (fc): Linear(in_features=512, out_features=3, bias=True)\n",
      ")\n"
     ]
    }
   ],
   "metadata": {}
  },
  {
   "cell_type": "markdown",
   "source": [
    "### Train the model\n",
    "\n",
    "Note the **collate function** used with the `DataLoader`."
   ],
   "metadata": {}
  },
  {
   "cell_type": "code",
   "execution_count": 40,
   "source": [
    "# Training configs\n",
    "device = torch.device('cuda') if torch.cuda.is_available() else torch.device('cpu')\n",
    "print('Using {}...\\n'.format(device))\n",
    "\n",
    "# set up tensorboard storage\n",
    "dir_name = f\"{params['rnn_type']}_{params['embedding_dim']}_{params['hidden_size']}_{params['n_layers']}_{params['lr']}\"\n",
    "dir_name += \"_bidir\" if params[\"bidirectional\"] else \"\"\n",
    "dir_name += \"_glove\" if params[\"pretrained_embedding\"] else \"\"\n",
    "writer = SummaryWriter(f\"tensorboard_log/{dir_name}/\") \n",
    "\n",
    "# Dataloaders, note the collate function\n",
    "train_loader = DataLoader(train_dataset, batch_size=params['batch_size'], collate_fn=collate, drop_last=True, num_workers=8, shuffle=False)\n",
    "val_loader = DataLoader(val_dataset, batch_size=params['batch_size'], collate_fn=collate, drop_last=False, num_workers=8)"
   ],
   "outputs": [
    {
     "output_type": "stream",
     "name": "stdout",
     "text": [
      "Using cuda...\n",
      "\n"
     ]
    }
   ],
   "metadata": {}
  },
  {
   "cell_type": "markdown",
   "source": [
    "Visualize model in tensorboard."
   ],
   "metadata": {}
  },
  {
   "cell_type": "code",
   "execution_count": 41,
   "source": [
    "x = next(iter(train_loader))\n",
    "writer.add_graph(model=model.cpu(), input_to_model=(x['data'], x['lengths']))\n",
    "writer.close()"
   ],
   "outputs": [],
   "metadata": {}
  },
  {
   "cell_type": "markdown",
   "source": [
    "Training loop:"
   ],
   "metadata": {}
  },
  {
   "cell_type": "code",
   "execution_count": 42,
   "source": [
    "# Move model to the device we are using\n",
    "model = model.to(device)\n",
    "\n",
    "optimizer = torch.optim.Adam(model.parameters(), lr=params['lr'])\n",
    "scheduler = torch.optim.lr_scheduler.ExponentialLR(optimizer, gamma=params['lr_decay'])\n",
    "\n",
    "train_loss_history = []\n",
    "val_loss_history = []\n",
    "best_acc = 0\n",
    "model.train()\n",
    "\n",
    "# train for some number of epochs\n",
    "for e in range(params['epochs']):\n",
    "    model.train()\n",
    "    sum_loss = 0.0\n",
    "    total = 0\n",
    "\n",
    "    # batch loop\n",
    "    for i, x in enumerate(train_loader):\n",
    "        inputs = x['data'].to(device)\n",
    "        lengths = x['lengths']\n",
    "        labels = x['label'].to(device)\n",
    "        # zero accumulated gradients\n",
    "        optimizer.zero_grad()\n",
    "\n",
    "        # get the output from the model\n",
    "        output = model(inputs, lengths)\n",
    "\n",
    "        # calculate the loss and perform backprop\n",
    "        loss = loss_fn(output, labels.long())\n",
    "        loss.backward()\n",
    "        # `clip_grad_norm` helps prevent the exploding gradient problem in RNNs / LSTMs.\n",
    "        clip_grad_norm_(model.parameters(), max_norm=params['gclip'])\n",
    "        optimizer.step()\n",
    "\n",
    "        sum_loss += loss.item()*x['label'].shape[0]\n",
    "        total += x['label'].shape[0]\n",
    "               \n",
    "        # loss stats\n",
    "        if (params['print_every'] is not None) and (i % params['print_every'] == 0):\n",
    "            print('Step {} / {}, Loss {}'.format(i, len(train_loader), loss.item()))\n",
    "    # Learning rate scheduler\n",
    "    scheduler.step()\n",
    "\n",
    "    # Get validation loss\n",
    "    val_loss, val_acc, val_rmse, _ = validation_metrics(model, val_loader)\n",
    "    \n",
    "    writer.add_scalar(\"Train Loss\", sum_loss/total, e)\n",
    "    writer.add_scalar(\"Validation Loss\", val_loss, e)\n",
    "    writer.add_scalar(\"Validation Accuracy\", val_acc, e)\n",
    "    writer.add_scalar(\"Validation RMSE\", val_rmse, e)\n",
    "\n",
    "    train_loss_history.append(sum_loss/total)\n",
    "    val_loss_history.append(val_loss)\n",
    "\n",
    "    print(\"Epoch: {}/{}...\".format(e+1, params['epochs']),\n",
    "            \"Train Loss: {:.3f}...\".format(sum_loss/total),\n",
    "            \"Val Loss: {:.3f}...\".format(val_loss),\n",
    "            \"Val Acc: {:.3f}...\".format(val_acc),\n",
    "            \"Val RMSE: {:.3f}\".format(val_rmse))\n",
    "    # Early stopping\n",
    "    if val_acc > best_acc:\n",
    "        pat = 0\n",
    "        best_acc = val_acc\n",
    "        best_model_weights = copy.deepcopy(model.state_dict())\n",
    "        best_epoch = e+1\n",
    "    else:\n",
    "        pat += 1\n",
    "\n",
    "    if pat == params['patience']:\n",
    "        print('Early stopping at epoch {epoch}.'.format(epoch=best_epoch))\n",
    "        break\n",
    "            \n",
    "model.load_state_dict(best_model_weights)"
   ],
   "outputs": [
    {
     "output_type": "stream",
     "name": "stdout",
     "text": [
      "Epoch: 1/25... Train Loss: 0.926... Val Loss: 0.806... Val Acc: 0.637... Val RMSE: 0.740\n",
      "Epoch: 2/25... Train Loss: 0.853... Val Loss: 0.730... Val Acc: 0.672... Val RMSE: 0.701\n",
      "Epoch: 3/25... Train Loss: 0.802... Val Loss: 0.751... Val Acc: 0.672... Val RMSE: 0.738\n",
      "Epoch: 4/25... Train Loss: 0.725... Val Loss: 0.710... Val Acc: 0.694... Val RMSE: 0.689\n",
      "Epoch: 5/25... Train Loss: 0.704... Val Loss: 0.796... Val Acc: 0.682... Val RMSE: 0.728\n",
      "Epoch: 6/25... Train Loss: 0.672... Val Loss: 0.700... Val Acc: 0.694... Val RMSE: 0.682\n",
      "Epoch: 7/25... Train Loss: 0.663... Val Loss: 0.767... Val Acc: 0.690... Val RMSE: 0.708\n",
      "Epoch: 8/25... Train Loss: 0.639... Val Loss: 0.731... Val Acc: 0.701... Val RMSE: 0.673\n",
      "Epoch: 9/25... Train Loss: 0.619... Val Loss: 0.672... Val Acc: 0.716... Val RMSE: 0.634\n",
      "Epoch: 10/25... Train Loss: 0.614... Val Loss: 0.704... Val Acc: 0.703... Val RMSE: 0.661\n",
      "Epoch: 11/25... Train Loss: 0.604... Val Loss: 0.709... Val Acc: 0.704... Val RMSE: 0.662\n",
      "Epoch: 12/25... Train Loss: 0.585... Val Loss: 0.667... Val Acc: 0.718... Val RMSE: 0.623\n",
      "Epoch: 13/25... Train Loss: 0.574... Val Loss: 0.669... Val Acc: 0.716... Val RMSE: 0.628\n",
      "Epoch: 14/25... Train Loss: 0.557... Val Loss: 0.633... Val Acc: 0.713... Val RMSE: 0.610\n",
      "Epoch: 15/25... Train Loss: 0.548... Val Loss: 0.685... Val Acc: 0.715... Val RMSE: 0.621\n",
      "Epoch: 16/25... Train Loss: 0.533... Val Loss: 0.660... Val Acc: 0.724... Val RMSE: 0.606\n",
      "Epoch: 17/25... Train Loss: 0.520... Val Loss: 0.664... Val Acc: 0.718... Val RMSE: 0.616\n",
      "Epoch: 18/25... Train Loss: 0.504... Val Loss: 0.670... Val Acc: 0.727... Val RMSE: 0.579\n",
      "Epoch: 19/25... Train Loss: 0.500... Val Loss: 0.661... Val Acc: 0.718... Val RMSE: 0.600\n",
      "Epoch: 20/25... Train Loss: 0.482... Val Loss: 0.690... Val Acc: 0.723... Val RMSE: 0.597\n",
      "Epoch: 21/25... Train Loss: 0.458... Val Loss: 0.665... Val Acc: 0.729... Val RMSE: 0.568\n",
      "Epoch: 22/25... Train Loss: 0.459... Val Loss: 0.671... Val Acc: 0.722... Val RMSE: 0.563\n",
      "Epoch: 23/25... Train Loss: 0.441... Val Loss: 0.674... Val Acc: 0.730... Val RMSE: 0.574\n",
      "Epoch: 24/25... Train Loss: 0.423... Val Loss: 0.691... Val Acc: 0.732... Val RMSE: 0.584\n",
      "Epoch: 25/25... Train Loss: 0.416... Val Loss: 0.699... Val Acc: 0.723... Val RMSE: 0.568\n"
     ]
    },
    {
     "output_type": "execute_result",
     "data": {
      "text/plain": [
       "<All keys matched successfully>"
      ]
     },
     "metadata": {},
     "execution_count": 42
    }
   ],
   "metadata": {}
  },
  {
   "cell_type": "markdown",
   "source": [
    "Open Tensorboard GUI to see the logs:"
   ],
   "metadata": {}
  },
  {
   "cell_type": "code",
   "execution_count": 43,
   "source": [
    "# %load_ext tensorboard\n",
    "# %tensorboard --logdir runs"
   ],
   "outputs": [],
   "metadata": {}
  },
  {
   "cell_type": "markdown",
   "source": [
    "Let's plot the loss curves in one figure to have an insight of the training. "
   ],
   "metadata": {}
  },
  {
   "cell_type": "code",
   "execution_count": 44,
   "source": [
    "fig = plt.figure()\n",
    "plt.title('Loss curves')\n",
    "plt.plot(train_loss_history, '-', label='train')\n",
    "plt.plot(val_loss_history, '-', label='val')\n",
    "plt.legend(loc='lower right')\n",
    "plt.xlabel('Iteration')\n",
    "writer.add_figure(f\"Loss curves\", fig)\n",
    "fig"
   ],
   "outputs": [
    {
     "output_type": "execute_result",
     "data": {
      "image/png": "[encoded data removed]",
      "text/plain": [
       "<Figure size 360x288 with 1 Axes>"
      ]
     },
     "metadata": {},
     "execution_count": 44
    }
   ],
   "metadata": {}
  },
  {
   "cell_type": "markdown",
   "source": [
    "## Testing the Model\n",
    "\n",
    "As we trained a model and improved it on the validation set, we can now test it on the test set."
   ],
   "metadata": {}
  },
  {
   "cell_type": "code",
   "execution_count": 45,
   "source": [
    "test_loader = DataLoader(test_dataset, batch_size=params['batch_size'], collate_fn=collate, drop_last=False)\n",
    "\n",
    "_, test_acc, test_rmse, y_pred = validation_metrics(model, test_loader)\n",
    "y_true = [x['label'].item() for x in test_dataset]\n",
    "report = classification_report(y_true, y_pred, target_names=['negative', 'neutral', 'positive'], output_dict=True)\n",
    "print(classification_report(y_true, y_pred, target_names=['negative', 'neutral', 'positive']))\n",
    "\n",
    "writer.add_hparams(params,{\"macro_acc\":test_acc, \"mse\": test_rmse, \"f1-score\": report['macro avg']['f1-score'],\n",
    "                         \"precision\":report['macro avg']['precision'], \"recall\":report['macro avg']['recall']})\n",
    "writer.close()"
   ],
   "outputs": [
    {
     "output_type": "stream",
     "name": "stdout",
     "text": [
      "              precision    recall  f1-score   support\n",
      "\n",
      "    negative       0.63      0.87      0.73       643\n",
      "     neutral       0.70      0.53      0.60      1644\n",
      "    positive       0.73      0.79      0.76      1811\n",
      "\n",
      "    accuracy                           0.70      4098\n",
      "   macro avg       0.69      0.73      0.70      4098\n",
      "weighted avg       0.70      0.70      0.69      4098\n",
      "\n"
     ]
    }
   ],
   "metadata": {}
  },
  {
   "cell_type": "markdown",
   "source": [
    "## Inference\n",
    "\n",
    "Now that we trained a sufficiently good sentiment classifier, let's run the below cell and type some text to see some predictions (type exit to quit the demo). Since we used a small data, don't expect too much :)."
   ],
   "metadata": {}
  },
  {
   "cell_type": "code",
   "execution_count": 24,
   "source": [
    "text = ''\n",
    "w2i = vocab\n",
    "while True:\n",
    "    text = input()\n",
    "    if text == 'exit':\n",
    "        break\n",
    "    \n",
    "    words = torch.tensor([\n",
    "        w2i.get(word, w2i['<unk>'])\n",
    "        for word in nltk.word_tokenize(text)\n",
    "    ]).long().to(device).view(-1, 1)  # T x B\n",
    "    with torch.no_grad():\n",
    "        pred = model(words).cpu()\n",
    "        probs = F.softmax(pred, dim=1)\n",
    "    prob, idx = torch.max(probs, dim=1)\n",
    "    if idx == 0:\n",
    "        txt = ':('\n",
    "    elif idx == 1:\n",
    "        txt = ':/'\n",
    "    elif idx == 2:\n",
    "        txt = ':)'\n",
    "        \n",
    "    print('Input text: {}\\n'.format(text),\n",
    "        'Sentiment -> {}, Confidence -> {:.3f}% '.format(txt, *prob*100))\n",
    "    print()"
   ],
   "outputs": [
    {
     "output_type": "stream",
     "name": "stdout",
     "text": [
      "Input text: awesome but expensive\n",
      " Sentiment -> :), Confidence -> 71.865% \n",
      "\n",
      "Input text: expensive but awesome\n",
      " Sentiment -> :/, Confidence -> 42.852% \n",
      "\n",
      "Input text: comfortable place polite staff\n",
      " Sentiment -> :/, Confidence -> 75.686% \n",
      "\n",
      "Input text: loved it rooms could have been cleaner but food was great\n",
      " Sentiment -> :), Confidence -> 84.820% \n",
      "\n",
      "Input text: loved it\n",
      " Sentiment -> :), Confidence -> 84.636% \n",
      "\n",
      "Input text: disgusting rooms, unbearable smell\n",
      " Sentiment -> :(, Confidence -> 86.970% \n",
      "\n",
      "Input text: totally worth the money, staff helpful, had a great time\n",
      " Sentiment -> :), Confidence -> 83.638% \n",
      "\n",
      "Input text: kids loved it, great place to rest\n",
      " Sentiment -> :), Confidence -> 81.685% \n",
      "\n"
     ]
    }
   ],
   "metadata": {}
  },
  {
   "cell_type": "code",
   "execution_count": null,
   "source": [],
   "outputs": [],
   "metadata": {}
  }
 ]
}